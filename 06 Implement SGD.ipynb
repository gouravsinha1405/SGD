{
 "cells": [
  {
   "cell_type": "code",
   "execution_count": 2,
   "metadata": {
    "colab": {},
    "colab_type": "code",
    "id": "REYPoTJ1Af7u"
   },
   "outputs": [],
   "source": [
    "import warnings\n",
    "warnings.filterwarnings(\"ignore\")\n",
    "from sklearn.datasets import load_boston\n",
    "from tqdm import tqdm\n",
    "from random import seed,shuffle\n",
    "from random import randrange,randint,sample\n",
    "from csv import reader\n",
    "from math import sqrt,isclose\n",
    "from sklearn import preprocessing\n",
    "import pandas as pd\n",
    "import numpy as np\n",
    "import matplotlib.pyplot as plt\n",
    "from prettytable import PrettyTable\n",
    "from sklearn.linear_model import SGDRegressor\n",
    "from sklearn import preprocessing\n",
    "from sklearn.metrics import mean_squared_error\n",
    "from sklearn.model_selection import train_test_split"
   ]
  },
  {
   "cell_type": "markdown",
   "metadata": {},
   "source": [
    "**Function definitions**"
   ]
  },
  {
   "cell_type": "code",
   "execution_count": 4,
   "metadata": {},
   "outputs": [],
   "source": [
    "#-----------------------------variable definitions-------------------------------------#\n",
    "# x or X = boston data\n",
    "# y or Y = target\n",
    "# k = random batch size\n",
    "# w or W = weight\n",
    "# b = bias/intercept\n",
    "# r = learning rate\n",
    "# n or N = number of rows or data in boston housing price dataset which is 506\n",
    "#----------------------SGD function--------------------------------------------#\n",
    "def custom_SGD(x,y,k,w,learning_rate,b,rows,cols,max_iter):\n",
    "    iteration = 0\n",
    "    der_w = 0\n",
    "    der_b = 0\n",
    "    for i in range(max_iter):\n",
    "        #print(learning_rate)\n",
    "        Wnew,bnew,lr = random_batch(x,y,k,w,learning_rate,b,rows,cols,der_w,der_b)\n",
    "        if np.allclose([w],[Wnew]):\n",
    "            break\n",
    "        w = Wnew\n",
    "        b = bnew\n",
    "        lr = lr/2\n",
    "    iteration += 1\n",
    "    return w,b\n",
    "#---------------------------------function to pick random batches of size k such that each batch has different elements----------#       \n",
    "def random_batch(x,y,k,w,learning_rate,b,rows,cols,der_w,der_b):\n",
    "    r = list(range(0,rows)) #list of 506 numbers from where we will pick k random numbers\n",
    "    while len(r) != 0:\n",
    "        if len(r) < k:\n",
    "            break\n",
    "        else:\n",
    "            z = sample(r,k)\n",
    "            new_x = np.zeros((k,cols))\n",
    "            new_y = np.zeros((k,1))# picking up k random numbers from list of 506 numbers which then will act as index to sample out batches in new_x and new_y\n",
    "        #print(z)\n",
    "        count = 0\n",
    "        for i in z:\n",
    "            new_x[count] = x[i] #creating new matrix/vector with randomly picked up indexes\n",
    "            new_y[count] = y[i]\n",
    "            count = count+1\n",
    "        #print(new_x)\n",
    "        #print(new_x.shape)\n",
    "        #print(new_y)\n",
    "        #print(new_y.shape)\n",
    "        Wnew,bnew = cal_gradient(new_x,new_y,w,b,learning_rate,k,der_w,der_b)\n",
    "        learning_rate = learning_rate/2\n",
    "        w = Wnew\n",
    "        b = bnew\n",
    "        r = list(i for i in r if i not in z)\n",
    "    return w,b,learning_rate\n",
    "#---------------------function to calculate gradient------------------------------------------#\n",
    "def cal_gradient(X,Y,w,b,r,k,der_w,der_b):\n",
    "    #print(X.shape)\n",
    "    x = np.asmatrix(X)\n",
    "    #print(x.shape)\n",
    "    y = np.asmatrix(Y)\n",
    "    #print(y[:,0].shape)\n",
    "    for i in range(len(x)):\n",
    "        der_w += np.dot(-2*(x[i]).T , (y[i] - np.dot(x[i] , w) + b))\n",
    "        der_b += -2*(y[i] - (np.dot(x[i] , w) + b))\n",
    "    Wnew = w - (r*der_w)/k\n",
    "    bnew = b - (r*der_b)/k\n",
    "    return Wnew,bnew\n",
    "#---------------------------function to calculate mean squared error------------------------------#\n",
    "def cal_MSE(x,y,opt_w,opt_b):\n",
    "    yhat = 0\n",
    "    Ypred = []\n",
    "    msq = 0\n",
    "    reg_line = []\n",
    "    x = np.asmatrix(x)\n",
    "    y = np.asmatrix(y)\n",
    "    for i in range(len(x)):\n",
    "        yhat = (np.dot(x[i],opt_w) + opt_b)\n",
    "        reg_line.append(yhat)\n",
    "        msq += ((Y[i] - yhat)**2)\n",
    "        Ypred.append(np.dot(x[i],opt_w) + opt_b)\n",
    "    return msq/len(x),Ypred\n"
   ]
  },
  {
   "cell_type": "markdown",
   "metadata": {},
   "source": [
    "**Load Boston dataset**"
   ]
  },
  {
   "cell_type": "code",
   "execution_count": 14,
   "metadata": {
    "colab": {},
    "colab_type": "code",
    "id": "NTQ2iH-kAwbo"
   },
   "outputs": [],
   "source": [
    "Xdata = load_boston().data\n",
    "Ytar = load_boston().target"
   ]
  },
  {
   "cell_type": "markdown",
   "metadata": {},
   "source": [
    "**Column Standardization on X**"
   ]
  },
  {
   "cell_type": "code",
   "execution_count": 15,
   "metadata": {},
   "outputs": [],
   "source": [
    "X = Xdata\n",
    "Y = Ytar \n",
    "#print(X[0:5])\n",
    "#print(Y[0:5])\n",
    "X = (X-X.mean(axis=0))/X.std(axis=0)\n",
    "#print(X[0:5])\n",
    "#print(Y[0:5])"
   ]
  },
  {
   "cell_type": "markdown",
   "metadata": {},
   "source": [
    "**Data initialization**"
   ]
  },
  {
   "cell_type": "code",
   "execution_count": 16,
   "metadata": {},
   "outputs": [],
   "source": [
    "W = np.zeros((13,1))#initalizing weights\n",
    "b = 0 #initializing bias/intercept\n",
    "learning_rate = 0.001 #initializing learning rate\n",
    "rows = len(X) \n",
    "cols = 13\n",
    "k = 10 #batch size\n",
    "iterations = 1000 #iterations"
   ]
  },
  {
   "cell_type": "markdown",
   "metadata": {},
   "source": [
    "**Finding optimal weights and optimal bias by running Customised SGD algorithm**"
   ]
  },
  {
   "cell_type": "code",
   "execution_count": 17,
   "metadata": {},
   "outputs": [
    {
     "name": "stdout",
     "output_type": "stream",
     "text": [
      "Optimal Weights\n",
      "[[-0.45736676]\n",
      " [-0.34062287]\n",
      " [-0.35091316]\n",
      " [ 0.32415813]\n",
      " [-0.96495186]\n",
      " [ 3.03716798]\n",
      " [-0.41842106]\n",
      " [-1.61325363]\n",
      " [ 0.97495503]\n",
      " [-0.41331528]\n",
      " [-1.45417113]\n",
      " [ 0.51679218]\n",
      " [-3.20963907]]\n",
      "Optimal Bias\n",
      "[[22.08515687]]\n"
     ]
    }
   ],
   "source": [
    "optimal_weights,optimal_bias = custom_SGD(X,Y,k,W,learning_rate,b,rows,cols,iterations)\n",
    "print(\"Optimal Weights\")\n",
    "print(optimal_weights)\n",
    "print(\"Optimal Bias\")\n",
    "print(optimal_bias)"
   ]
  },
  {
   "cell_type": "markdown",
   "metadata": {},
   "source": [
    "**Finding mean squared error between points predicted by our SGD algorithm and actual points**"
   ]
  },
  {
   "cell_type": "code",
   "execution_count": 18,
   "metadata": {},
   "outputs": [
    {
     "name": "stdout",
     "output_type": "stream",
     "text": [
      "Mean squared error: 25.291147\n"
     ]
    }
   ],
   "source": [
    "msq,Ypred = cal_MSE(X,Y,optimal_weights,optimal_bias)\n",
    "print(\"Mean squared error: %f\" % msq)\n"
   ]
  },
  {
   "cell_type": "markdown",
   "metadata": {},
   "source": [
    "**Scatter plot showing point distribution**"
   ]
  },
  {
   "cell_type": "code",
   "execution_count": 19,
   "metadata": {},
   "outputs": [
    {
     "data": {
      "image/png": "[encoded data removed]",
      "text/plain": [
       "<Figure size 432x288 with 1 Axes>"
      ]
     },
     "metadata": {},
     "output_type": "display_data"
    }
   ],
   "source": [
    "plt.scatter(Ypred,Y,color='orange')\n",
    "plt.xlabel(\"Y predicted\")\n",
    "plt.ylabel(\"Y actual\")\n",
    "plt.title(\"Linear Regression plot\")\n",
    "plt.show()"
   ]
  },
  {
   "cell_type": "markdown",
   "metadata": {},
   "source": [
    "**Finding MSE and plotting points after predicting results by using sklearn SGD function**"
   ]
  },
  {
   "cell_type": "code",
   "execution_count": 20,
   "metadata": {
    "colab": {},
    "colab_type": "code",
    "id": "FgUW39s6Be0U"
   },
   "outputs": [],
   "source": [
    "scaler = preprocessing.StandardScaler().fit(X)\n",
    "X= scaler.transform(X)"
   ]
  },
  {
   "cell_type": "code",
   "execution_count": 21,
   "metadata": {
    "colab": {
     "base_uri": "https://localhost:8080/",
     "height": 34
    },
    "colab_type": "code",
    "executionInfo": {
     "elapsed": 879,
     "status": "ok",
     "timestamp": 1545718892607,
     "user": {
      "displayName": "Applied AI Course",
      "photoUrl": "https://lh5.googleusercontent.com/-9_3A9F-kDXs/AAAAAAAAAAI/AAAAAAAAACw/IprjYvUuoXQ/s64/photo.jpg",
      "userId": "00484516897554883881"
     },
     "user_tz": -330
    },
    "id": "HNu1sXtEBBS2",
    "outputId": "a0c5d3d0-345c-4a34-8ccf-0d9f3d7d23fd"
   },
   "outputs": [
    {
     "name": "stdout",
     "output_type": "stream",
     "text": [
      "22.775945059767555\n"
     ]
    }
   ],
   "source": [
    "clf = SGDRegressor()\n",
    "clf.fit(X,Y)\n",
    "print(mean_squared_error(Y, clf.predict(X)))"
   ]
  },
  {
   "cell_type": "code",
   "execution_count": 22,
   "metadata": {},
   "outputs": [
    {
     "data": {
      "image/png": "[encoded data removed]",
      "text/plain": [
       "<Figure size 432x288 with 1 Axes>"
      ]
     },
     "metadata": {},
     "output_type": "display_data"
    }
   ],
   "source": [
    "plt.scatter(clf.predict(X),Y,color='orange')\n",
    "plt.xlabel(\"Ypred\")\n",
    "plt.ylabel(\"Y\")\n",
    "plt.title(\"Linear Regression plot\")\n",
    "plt.show()"
   ]
  },
  {
   "cell_type": "markdown",
   "metadata": {},
   "source": [
    "**Observations**<br>By taking initial learning rate as 0.001 and max iterations as 1000 we could get the mean squared error value as 28.81 approx which is not very different from MSE value that we would get by using sklearn SGD algorithm.<br>Hence, we can conclude that our custom made SGD algorithm can successfully predict the housing price in city of boston based on the features in the dataset. Even the plot density is high along the same slope."
   ]
  },
  {
   "cell_type": "markdown",
   "metadata": {},
   "source": [
    "**Key points**<br>In order to design our own algorithm we need to keep in mind the below mentioned points:<ul><li>We need to initialize the weights and bias where weights are vector while bias is a scalr<li>We need to divide our datasets into k size batches where k remains fixed during every iteration <li>All batches should be different from each other and while updating weights and bias we should use different batch i.e wi should be updated on different batch while wi+1 should be updated on different batch<li>It is important to standardize X dataset or dataset containing features otherwise we will have to take very small learning rate </ul>"
   ]
  },
  {
   "cell_type": "code",
   "execution_count": null,
   "metadata": {},
   "outputs": [],
   "source": []
  }
 ],
 "metadata": {
  "colab": {
   "name": "Untitled3.ipynb",
   "provenance": [],
   "version": "0.3.2"
  },
  "kernelspec": {
   "display_name": "Python 3",
   "language": "python",
   "name": "python3"
  },
  "language_info": {
   "codemirror_mode": {
    "name": "ipython",
    "version": 3
   },
   "file_extension": ".py",
   "mimetype": "text/x-python",
   "name": "python",
   "nbconvert_exporter": "python",
   "pygments_lexer": "ipython3",
   "version": "3.6.5"
  }
 },
 "nbformat": 4,
 "nbformat_minor": 1
}
